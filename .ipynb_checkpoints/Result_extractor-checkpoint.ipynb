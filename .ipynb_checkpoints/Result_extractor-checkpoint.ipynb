{
 "cells": [
  {
   "cell_type": "code",
   "execution_count": 1,
   "metadata": {
    "collapsed": true
   },
   "outputs": [],
   "source": [
    "import os"
   ]
  },
  {
   "cell_type": "code",
   "execution_count": 2,
   "metadata": {
    "collapsed": false
   },
   "outputs": [
    {
     "name": "stdout",
     "output_type": "stream",
     "text": [
      "/Users/Armin/Documents/Nocs/results\n",
      ".DS_Store\n",
      "output1.rslt\n",
      "output2.rslt\n",
      "output2adafdf.rslt\n",
      "overall_results.txt\n"
     ]
    }
   ],
   "source": [
    "#cwd = os.getcwd()\n",
    "result_dir = os.getcwd()+\"/results\"\n",
    "print result_dir\n",
    "result_file = []\n",
    "for item in (os.listdir(result_dir)):\n",
    "    print item\n",
    "    if item.endswith(\".rslt\"):\n",
    "        result_file.append(item)"
   ]
  },
  {
   "cell_type": "code",
   "execution_count": 3,
   "metadata": {
    "collapsed": false
   },
   "outputs": [
    {
     "data": {
      "text/plain": [
       "['output1.rslt', 'output2.rslt', 'output2adafdf.rslt']"
      ]
     },
     "execution_count": 3,
     "metadata": {},
     "output_type": "execute_result"
    }
   ],
   "source": [
    "result_file"
   ]
  },
  {
   "cell_type": "code",
   "execution_count": 6,
   "metadata": {
    "collapsed": false
   },
   "outputs": [
    {
     "name": "stdout",
     "output_type": "stream",
     "text": [
      "Fount it on:1158\n",
      "Fount it on:1158\n",
      "Fount it on:1158\n"
     ]
    }
   ],
   "source": [
    "\n",
    "latency = []\n",
    "for result in result_file:\n",
    "    flag = 0\n",
    "    with open(\"./results/\"+result,'r') as f:\n",
    "        for i,line in enumerate(f):\n",
    "            if flag==0:\n",
    "                if \"====== Overall Traffic Statistics ======\" in line:\n",
    "                    print \"Fount it on:\"+ str(i)\n",
    "                    start_line = i\n",
    "                    flag = 1\n",
    "            else:\n",
    "                if \"Network latency average\" in line:\n",
    "                    latency.append(((\"File Name: \"+ result+\",\"+line.split()[4])))\n",
    "with open(\"./results/overall_results.txt\", 'wr') as fp:\n",
    "    for item in latency:\n",
    "        fp.write(item+\"\\n\")"
   ]
  },
  {
   "cell_type": "code",
   "execution_count": null,
   "metadata": {
    "collapsed": false
   },
   "outputs": [],
   "source": []
  },
  {
   "cell_type": "code",
   "execution_count": null,
   "metadata": {
    "collapsed": true
   },
   "outputs": [],
   "source": []
  }
 ],
 "metadata": {
  "kernelspec": {
   "display_name": "Python 2",
   "language": "python",
   "name": "python2"
  },
  "language_info": {
   "codemirror_mode": {
    "name": "ipython",
    "version": 2
   },
   "file_extension": ".py",
   "mimetype": "text/x-python",
   "name": "python",
   "nbconvert_exporter": "python",
   "pygments_lexer": "ipython2",
   "version": "2.7.11"
  }
 },
 "nbformat": 4,
 "nbformat_minor": 0
}
