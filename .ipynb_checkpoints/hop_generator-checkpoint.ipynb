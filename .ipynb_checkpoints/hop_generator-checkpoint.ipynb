{
 "cells": [
  {
   "cell_type": "code",
   "execution_count": 1,
   "metadata": {
    "collapsed": true
   },
   "outputs": [],
   "source": [
    "import numpy as np\n",
    "import os"
   ]
  },
  {
   "cell_type": "code",
   "execution_count": 2,
   "metadata": {
    "collapsed": false
   },
   "outputs": [
    {
     "name": "stdout",
     "output_type": "stream",
     "text": [
      "/Users/Armin/Documents/Nocs/booksim_mesh_generator\n"
     ]
    }
   ],
   "source": [
    "mesh_size = 16\n",
    "hop = 4\n",
    "hop_number = (mesh_size/hop)\n",
    "print os.getcwd()"
   ]
  },
  {
   "cell_type": "code",
   "execution_count": 3,
   "metadata": {
    "collapsed": true
   },
   "outputs": [],
   "source": [
    "row_list = range(mesh_size)"
   ]
  },
  {
   "cell_type": "code",
   "execution_count": 4,
   "metadata": {
    "collapsed": true
   },
   "outputs": [],
   "source": [
    "with open('hop_generator.txt', 'wb') as f:\n",
    "    for item in row_list:\n",
    "        if (item%2)==0:\n",
    "            for i in range (hop_number-1):\n",
    "                f.write('%i %i '%(((item*mesh_size)+(i*hop)),((item*mesh_size)+(i*hop)+hop)))\n",
    "        if (item%2)==1:\n",
    "            for i in range ((hop_number-1)):\n",
    "                f.write('%i %i '%(((item*mesh_size)+(i*hop)+1),((item*mesh_size)+(i*hop)+hop+1)))\n",
    "            "
   ]
  },
  {
   "cell_type": "code",
   "execution_count": null,
   "metadata": {
    "collapsed": true
   },
   "outputs": [],
   "source": []
  }
 ],
 "metadata": {
  "kernelspec": {
   "display_name": "Python 2",
   "language": "python",
   "name": "python2"
  },
  "language_info": {
   "codemirror_mode": {
    "name": "ipython",
    "version": 2
   },
   "file_extension": ".py",
   "mimetype": "text/x-python",
   "name": "python",
   "nbconvert_exporter": "python",
   "pygments_lexer": "ipython2",
   "version": "2.7.11"
  }
 },
 "nbformat": 4,
 "nbformat_minor": 0
}
