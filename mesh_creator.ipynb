{
 "cells": [
  {
   "cell_type": "code",
   "execution_count": 1,
   "metadata": {
    "collapsed": true
   },
   "outputs": [],
   "source": [
    "import numpy as np\n",
    "import sys\n",
    "from scipy.spatial.distance import pdist, squareform"
   ]
  },
  {
   "cell_type": "code",
   "execution_count": 2,
   "metadata": {
    "collapsed": false
   },
   "outputs": [],
   "source": [
    "#X_size = 8\n",
    "#Y_size = 8\n",
    "#custom_connections = [4,23,62,3]\n",
    "#custom_connections_sources = custom_connections[0::2]\n",
    "#custom_connections_destinations = custom_connections[1::2]\n",
    "#name = 'crap'"
   ]
  },
  {
   "cell_type": "code",
   "execution_count": 3,
   "metadata": {
    "collapsed": false
   },
   "outputs": [],
   "source": [
    "def mesh_creator(NX,NY):\n",
    "    X, Y = np.meshgrid(range(1,NX+1), range(1,NY+1))\n",
    "    X = np.asarray(X.T.ravel())\n",
    "    Y = np.asarray(Y.T.ravel())\n",
    "    concat_XY = np.reshape(np.concatenate((X,Y), axis=0), (2, X.size))\n",
    "    adjacency_matrix = squareform(pdist(concat_XY.T,'cityblock')==1)\n",
    "    \n",
    "    return adjacency_matrix"
   ]
  },
  {
   "cell_type": "code",
   "execution_count": null,
   "metadata": {
    "collapsed": false
   },
   "outputs": [],
   "source": []
  },
  {
   "cell_type": "code",
   "execution_count": 4,
   "metadata": {
    "collapsed": false
   },
   "outputs": [
    {
     "name": "stdout",
     "output_type": "stream",
     "text": [
      "You didn't enter a number! Shame on you.\n"
     ]
    },
    {
     "ename": "SystemExit",
     "evalue": "1",
     "output_type": "error",
     "traceback": [
      "An exception has occurred, use %tb to see the full traceback.\n",
      "\u001b[0;31mSystemExit\u001b[0m\u001b[0;31m:\u001b[0m 1\n"
     ]
    },
    {
     "name": "stderr",
     "output_type": "stream",
     "text": [
      "To exit: use 'exit', 'quit', or Ctrl-D.\n"
     ]
    }
   ],
   "source": [
    "try:\n",
    "    X_size = int(sys.argv[1])\n",
    "    Y_size = int(sys.argv[2])\n",
    "    name = sys.argv[3]\n",
    "    custom_connections = sys.argv[4:]\n",
    "    if (len(custom_connections)%2==1):\n",
    "        print(\"You entered Odd number of custome connections! Shame on you.\")\n",
    "        sys.exit(1)\n",
    "    custom_connections_sources = custom_connections[0::2]\n",
    "    custom_connections_destinations = custom_connections[1::2]\n",
    "except ValueError as e:\n",
    "    print(\"You didn't enter a number! Shame on you.\")\n",
    "    sys.exit(1)\n",
    "print(\"All done!\")\n",
    "print (custom_connections_sources)\n",
    "print (custom_connections_destinations)"
   ]
  },
  {
   "cell_type": "code",
   "execution_count": 5,
   "metadata": {
    "collapsed": false
   },
   "outputs": [
    {
     "ename": "NameError",
     "evalue": "name 'X_size' is not defined",
     "output_type": "error",
     "traceback": [
      "\u001b[0;31m---------------------------------------------------------------------------\u001b[0m",
      "\u001b[0;31mNameError\u001b[0m                                 Traceback (most recent call last)",
      "\u001b[0;32m<ipython-input-5-dc739690b57d>\u001b[0m in \u001b[0;36m<module>\u001b[0;34m()\u001b[0m\n\u001b[0;32m----> 1\u001b[0;31m \u001b[0madj_matrix\u001b[0m \u001b[0;34m=\u001b[0m \u001b[0mmesh_creator\u001b[0m\u001b[0;34m(\u001b[0m\u001b[0mX_size\u001b[0m\u001b[0;34m,\u001b[0m\u001b[0mY_size\u001b[0m\u001b[0;34m)\u001b[0m\u001b[0;34m\u001b[0m\u001b[0m\n\u001b[0m\u001b[1;32m      2\u001b[0m \u001b[0mnode_count\u001b[0m \u001b[0;34m=\u001b[0m \u001b[0madj_matrix\u001b[0m\u001b[0;34m.\u001b[0m\u001b[0mshape\u001b[0m\u001b[0;34m[\u001b[0m\u001b[0;36m0\u001b[0m\u001b[0;34m]\u001b[0m\u001b[0;34m\u001b[0m\u001b[0m\n",
      "\u001b[0;31mNameError\u001b[0m: name 'X_size' is not defined"
     ]
    }
   ],
   "source": [
    "adj_matrix = mesh_creator(X_size,Y_size)\n",
    "node_count = adj_matrix.shape[0]\n"
   ]
  },
  {
   "cell_type": "code",
   "execution_count": 16,
   "metadata": {
    "collapsed": false
   },
   "outputs": [],
   "source": [
    "with open('%s.nwk' % name, 'wb') as f:\n",
    "    for i in range(1,node_count+1):\n",
    "        adjacent_routers = np.where(adj_matrix[i-1,])\n",
    "        adjacent_router_list = (np.asarray(adjacent_routers)).tolist()\n",
    "        f.write('router %i node %i '%(i-1,i-1))\n",
    "        if str(i-1) in custom_connections_sources:\n",
    "            print i-1\n",
    "            temp = custom_connections_destinations[(custom_connections_sources.index(str(int(i)-1)))]\n",
    "            #print (\"found %i and %i\"%i,temp)\n",
    "            f.write('router %s '%temp)\n",
    "            \n",
    "        for j in adjacent_router_list[0]:\n",
    "                    f.write('router %i '%j)\n",
    "            \n",
    "        f.write('\\n')\n"
   ]
  },
  {
   "cell_type": "code",
   "execution_count": null,
   "metadata": {
    "collapsed": false
   },
   "outputs": [],
   "source": [
    "\n"
   ]
  },
  {
   "cell_type": "code",
   "execution_count": null,
   "metadata": {
    "collapsed": false
   },
   "outputs": [],
   "source": []
  },
  {
   "cell_type": "code",
   "execution_count": null,
   "metadata": {
    "collapsed": false
   },
   "outputs": [],
   "source": []
  },
  {
   "cell_type": "code",
   "execution_count": null,
   "metadata": {
    "collapsed": false
   },
   "outputs": [],
   "source": []
  },
  {
   "cell_type": "code",
   "execution_count": null,
   "metadata": {
    "collapsed": false
   },
   "outputs": [],
   "source": []
  },
  {
   "cell_type": "code",
   "execution_count": null,
   "metadata": {
    "collapsed": false
   },
   "outputs": [],
   "source": []
  },
  {
   "cell_type": "code",
   "execution_count": null,
   "metadata": {
    "collapsed": false
   },
   "outputs": [],
   "source": []
  },
  {
   "cell_type": "code",
   "execution_count": null,
   "metadata": {
    "collapsed": false
   },
   "outputs": [],
   "source": []
  },
  {
   "cell_type": "code",
   "execution_count": null,
   "metadata": {
    "collapsed": false
   },
   "outputs": [],
   "source": []
  },
  {
   "cell_type": "code",
   "execution_count": null,
   "metadata": {
    "collapsed": false
   },
   "outputs": [],
   "source": []
  },
  {
   "cell_type": "code",
   "execution_count": null,
   "metadata": {
    "collapsed": false
   },
   "outputs": [],
   "source": []
  },
  {
   "cell_type": "code",
   "execution_count": null,
   "metadata": {
    "collapsed": false
   },
   "outputs": [],
   "source": []
  },
  {
   "cell_type": "code",
   "execution_count": null,
   "metadata": {
    "collapsed": true
   },
   "outputs": [],
   "source": []
  }
 ],
 "metadata": {
  "kernelspec": {
   "display_name": "Python 2",
   "language": "python",
   "name": "python2"
  },
  "language_info": {
   "codemirror_mode": {
    "name": "ipython",
    "version": 2
   },
   "file_extension": ".py",
   "mimetype": "text/x-python",
   "name": "python",
   "nbconvert_exporter": "python",
   "pygments_lexer": "ipython2",
   "version": "2.7.11"
  }
 },
 "nbformat": 4,
 "nbformat_minor": 0
}
